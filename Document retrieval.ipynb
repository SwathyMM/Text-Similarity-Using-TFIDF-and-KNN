{
 "cells": [
  {
   "cell_type": "markdown",
   "metadata": {},
   "source": [
    "#Document retrieval from wikipedia data\n",
    "\n",
    "#Import pandas"
   ]
  },
  {
   "cell_type": "code",
   "execution_count": 2,
   "metadata": {},
   "outputs": [],
   "source": [
    "import pandas as pd"
   ]
  },
  {
   "cell_type": "markdown",
   "metadata": {},
   "source": [
    "#Load some text data - from wikipedia, pages on people"
   ]
  },
  {
   "cell_type": "code",
   "execution_count": 3,
   "metadata": {},
   "outputs": [],
   "source": [
    "people = pd.read_csv('people_wiki.csv')"
   ]
  },
  {
   "cell_type": "markdown",
   "metadata": {},
   "source": [
    "Data contains:  link to wikipedia article, name of person, text of article."
   ]
  },
  {
   "cell_type": "code",
   "execution_count": 4,
   "metadata": {},
   "outputs": [
    {
     "data": {
      "text/html": [
       "<div>\n",
       "<style scoped>\n",
       "    .dataframe tbody tr th:only-of-type {\n",
       "        vertical-align: middle;\n",
       "    }\n",
       "\n",
       "    .dataframe tbody tr th {\n",
       "        vertical-align: top;\n",
       "    }\n",
       "\n",
       "    .dataframe thead th {\n",
       "        text-align: right;\n",
       "    }\n",
       "</style>\n",
       "<table border=\"1\" class=\"dataframe\">\n",
       "  <thead>\n",
       "    <tr style=\"text-align: right;\">\n",
       "      <th></th>\n",
       "      <th>URI</th>\n",
       "      <th>name</th>\n",
       "      <th>text</th>\n",
       "    </tr>\n",
       "  </thead>\n",
       "  <tbody>\n",
       "    <tr>\n",
       "      <th>0</th>\n",
       "      <td>&lt;http://dbpedia.org/resource/Digby_Morrell&gt;</td>\n",
       "      <td>Digby Morrell</td>\n",
       "      <td>digby morrell born 10 october 1979 is a former...</td>\n",
       "    </tr>\n",
       "    <tr>\n",
       "      <th>1</th>\n",
       "      <td>&lt;http://dbpedia.org/resource/Alfred_J._Lewy&gt;</td>\n",
       "      <td>Alfred J. Lewy</td>\n",
       "      <td>alfred j lewy aka sandy lewy graduated from un...</td>\n",
       "    </tr>\n",
       "    <tr>\n",
       "      <th>2</th>\n",
       "      <td>&lt;http://dbpedia.org/resource/Harpdog_Brown&gt;</td>\n",
       "      <td>Harpdog Brown</td>\n",
       "      <td>harpdog brown is a singer and harmonica player...</td>\n",
       "    </tr>\n",
       "    <tr>\n",
       "      <th>3</th>\n",
       "      <td>&lt;http://dbpedia.org/resource/Franz_Rottensteiner&gt;</td>\n",
       "      <td>Franz Rottensteiner</td>\n",
       "      <td>franz rottensteiner born in waidmannsfeld lowe...</td>\n",
       "    </tr>\n",
       "    <tr>\n",
       "      <th>4</th>\n",
       "      <td>&lt;http://dbpedia.org/resource/G-Enka&gt;</td>\n",
       "      <td>G-Enka</td>\n",
       "      <td>henry krvits born 30 december 1974 in tallinn ...</td>\n",
       "    </tr>\n",
       "  </tbody>\n",
       "</table>\n",
       "</div>"
      ],
      "text/plain": [
       "                                                 URI                 name  \\\n",
       "0        <http://dbpedia.org/resource/Digby_Morrell>        Digby Morrell   \n",
       "1       <http://dbpedia.org/resource/Alfred_J._Lewy>       Alfred J. Lewy   \n",
       "2        <http://dbpedia.org/resource/Harpdog_Brown>        Harpdog Brown   \n",
       "3  <http://dbpedia.org/resource/Franz_Rottensteiner>  Franz Rottensteiner   \n",
       "4               <http://dbpedia.org/resource/G-Enka>               G-Enka   \n",
       "\n",
       "                                                text  \n",
       "0  digby morrell born 10 october 1979 is a former...  \n",
       "1  alfred j lewy aka sandy lewy graduated from un...  \n",
       "2  harpdog brown is a singer and harmonica player...  \n",
       "3  franz rottensteiner born in waidmannsfeld lowe...  \n",
       "4  henry krvits born 30 december 1974 in tallinn ...  "
      ]
     },
     "execution_count": 4,
     "metadata": {},
     "output_type": "execute_result"
    }
   ],
   "source": [
    "people.head()"
   ]
  },
  {
   "cell_type": "code",
   "execution_count": 5,
   "metadata": {},
   "outputs": [
    {
     "data": {
      "text/plain": [
       "59071"
      ]
     },
     "execution_count": 5,
     "metadata": {},
     "output_type": "execute_result"
    }
   ],
   "source": [
    "len(people)"
   ]
  },
  {
   "cell_type": "markdown",
   "metadata": {},
   "source": [
    "#Explore the dataset and checkout the text it contains\n",
    "\n",
    "##Exploring the entry for president Obama"
   ]
  },
  {
   "cell_type": "code",
   "execution_count": 6,
   "metadata": {},
   "outputs": [],
   "source": [
    "obama = people[people['name'] == 'Barack Obama']"
   ]
  },
  {
   "cell_type": "code",
   "execution_count": 7,
   "metadata": {},
   "outputs": [
    {
     "data": {
      "text/html": [
       "<div>\n",
       "<style scoped>\n",
       "    .dataframe tbody tr th:only-of-type {\n",
       "        vertical-align: middle;\n",
       "    }\n",
       "\n",
       "    .dataframe tbody tr th {\n",
       "        vertical-align: top;\n",
       "    }\n",
       "\n",
       "    .dataframe thead th {\n",
       "        text-align: right;\n",
       "    }\n",
       "</style>\n",
       "<table border=\"1\" class=\"dataframe\">\n",
       "  <thead>\n",
       "    <tr style=\"text-align: right;\">\n",
       "      <th></th>\n",
       "      <th>URI</th>\n",
       "      <th>name</th>\n",
       "      <th>text</th>\n",
       "    </tr>\n",
       "  </thead>\n",
       "  <tbody>\n",
       "    <tr>\n",
       "      <th>35817</th>\n",
       "      <td>&lt;http://dbpedia.org/resource/Barack_Obama&gt;</td>\n",
       "      <td>Barack Obama</td>\n",
       "      <td>barack hussein obama ii brk husen bm born augu...</td>\n",
       "    </tr>\n",
       "  </tbody>\n",
       "</table>\n",
       "</div>"
      ],
      "text/plain": [
       "                                              URI          name  \\\n",
       "35817  <http://dbpedia.org/resource/Barack_Obama>  Barack Obama   \n",
       "\n",
       "                                                    text  \n",
       "35817  barack hussein obama ii brk husen bm born augu...  "
      ]
     },
     "execution_count": 7,
     "metadata": {},
     "output_type": "execute_result"
    }
   ],
   "source": [
    "obama"
   ]
  },
  {
   "cell_type": "code",
   "execution_count": 8,
   "metadata": {},
   "outputs": [
    {
     "data": {
      "text/plain": [
       "array(['barack hussein obama ii brk husen bm born august 4 1961 is the 44th and current president of the united states and the first african american to hold the office born in honolulu hawaii obama is a graduate of columbia university and harvard law school where he served as president of the harvard law review he was a community organizer in chicago before earning his law degree he worked as a civil rights attorney and taught constitutional law at the university of chicago law school from 1992 to 2004 he served three terms representing the 13th district in the illinois senate from 1997 to 2004 running unsuccessfully for the united states house of representatives in 2000in 2004 obama received national attention during his campaign to represent illinois in the united states senate with his victory in the march democratic party primary his keynote address at the democratic national convention in july and his election to the senate in november he began his presidential campaign in 2007 and after a close primary campaign against hillary rodham clinton in 2008 he won sufficient delegates in the democratic party primaries to receive the presidential nomination he then defeated republican nominee john mccain in the general election and was inaugurated as president on january 20 2009 nine months after his election obama was named the 2009 nobel peace prize laureateduring his first two years in office obama signed into law economic stimulus legislation in response to the great recession in the form of the american recovery and reinvestment act of 2009 and the tax relief unemployment insurance reauthorization and job creation act of 2010 other major domestic initiatives in his first term included the patient protection and affordable care act often referred to as obamacare the doddfrank wall street reform and consumer protection act and the dont ask dont tell repeal act of 2010 in foreign policy obama ended us military involvement in the iraq war increased us troop levels in afghanistan signed the new start arms control treaty with russia ordered us military involvement in libya and ordered the military operation that resulted in the death of osama bin laden in january 2011 the republicans regained control of the house of representatives as the democratic party lost a total of 63 seats and after a lengthy debate over federal spending and whether or not to raise the nations debt limit obama signed the budget control act of 2011 and the american taxpayer relief act of 2012obama was reelected president in november 2012 defeating republican nominee mitt romney and was sworn in for a second term on january 20 2013 during his second term obama has promoted domestic policies related to gun control in response to the sandy hook elementary school shooting and has called for full equality for lgbt americans while his administration has filed briefs which urged the supreme court to strike down the defense of marriage act of 1996 and californias proposition 8 as unconstitutional in foreign policy obama ordered us military involvement in iraq in response to gains made by the islamic state in iraq after the 2011 withdrawal from iraq continued the process of ending us combat operations in afghanistan and has sought to normalize us relations with cuba'],\n",
       "      dtype=object)"
      ]
     },
     "execution_count": 8,
     "metadata": {},
     "output_type": "execute_result"
    }
   ],
   "source": [
    "obama['text'].values"
   ]
  },
  {
   "cell_type": "markdown",
   "metadata": {},
   "source": [
    "##Exploring the entry for actor George Clooney"
   ]
  },
  {
   "cell_type": "code",
   "execution_count": 9,
   "metadata": {},
   "outputs": [
    {
     "data": {
      "text/plain": [
       "38514    george timothy clooney born may 6 1961 is an a...\n",
       "Name: text, dtype: object"
      ]
     },
     "execution_count": 9,
     "metadata": {},
     "output_type": "execute_result"
    }
   ],
   "source": [
    "clooney = people[people['name'] == 'George Clooney']\n",
    "clooney['text']"
   ]
  },
  {
   "cell_type": "markdown",
   "metadata": {},
   "source": [
    "#Get the word counts for Obama article"
   ]
  },
  {
   "cell_type": "code",
   "execution_count": 10,
   "metadata": {},
   "outputs": [],
   "source": [
    "from collections import Counter\n",
    "word_count = []\n",
    "count = Counter(str(obama.text.values).split())\n",
    "word_count.append(count)"
   ]
  },
  {
   "cell_type": "code",
   "execution_count": 11,
   "metadata": {},
   "outputs": [
    {
     "name": "stderr",
     "output_type": "stream",
     "text": [
      "C:\\Anaconda3\\lib\\site-packages\\ipykernel_launcher.py:1: SettingWithCopyWarning: \n",
      "A value is trying to be set on a copy of a slice from a DataFrame.\n",
      "Try using .loc[row_indexer,col_indexer] = value instead\n",
      "\n",
      "See the caveats in the documentation: http://pandas.pydata.org/pandas-docs/stable/indexing.html#indexing-view-versus-copy\n",
      "  \"\"\"Entry point for launching an IPython kernel.\n"
     ]
    },
    {
     "data": {
      "text/html": [
       "<div>\n",
       "<style scoped>\n",
       "    .dataframe tbody tr th:only-of-type {\n",
       "        vertical-align: middle;\n",
       "    }\n",
       "\n",
       "    .dataframe tbody tr th {\n",
       "        vertical-align: top;\n",
       "    }\n",
       "\n",
       "    .dataframe thead th {\n",
       "        text-align: right;\n",
       "    }\n",
       "</style>\n",
       "<table border=\"1\" class=\"dataframe\">\n",
       "  <thead>\n",
       "    <tr style=\"text-align: right;\">\n",
       "      <th></th>\n",
       "      <th>URI</th>\n",
       "      <th>name</th>\n",
       "      <th>text</th>\n",
       "      <th>word_count</th>\n",
       "    </tr>\n",
       "  </thead>\n",
       "  <tbody>\n",
       "    <tr>\n",
       "      <th>35817</th>\n",
       "      <td>&lt;http://dbpedia.org/resource/Barack_Obama&gt;</td>\n",
       "      <td>Barack Obama</td>\n",
       "      <td>barack hussein obama ii brk husen bm born augu...</td>\n",
       "      <td>{'['barack': 1, 'hussein': 1, 'obama': 9, 'ii'...</td>\n",
       "    </tr>\n",
       "  </tbody>\n",
       "</table>\n",
       "</div>"
      ],
      "text/plain": [
       "                                              URI          name  \\\n",
       "35817  <http://dbpedia.org/resource/Barack_Obama>  Barack Obama   \n",
       "\n",
       "                                                    text  \\\n",
       "35817  barack hussein obama ii brk husen bm born augu...   \n",
       "\n",
       "                                              word_count  \n",
       "35817  {'['barack': 1, 'hussein': 1, 'obama': 9, 'ii'...  "
      ]
     },
     "execution_count": 11,
     "metadata": {},
     "output_type": "execute_result"
    }
   ],
   "source": [
    "obama['word_count'] = word_count\n",
    "obama.head()"
   ]
  },
  {
   "cell_type": "markdown",
   "metadata": {},
   "source": [
    "##Sort the word counts for the Obama article"
   ]
  },
  {
   "cell_type": "markdown",
   "metadata": {},
   "source": [
    "###Turning dictonary of word counts into a table"
   ]
  },
  {
   "cell_type": "code",
   "execution_count": 12,
   "metadata": {},
   "outputs": [],
   "source": [
    "obama_word_count_table = pd.DataFrame(sorted(count.items(),key=lambda pair: pair[1],reverse=True))"
   ]
  },
  {
   "cell_type": "markdown",
   "metadata": {},
   "source": [
    "###Sorting the word counts to show most common words at the top"
   ]
  },
  {
   "cell_type": "code",
   "execution_count": 13,
   "metadata": {},
   "outputs": [
    {
     "data": {
      "text/html": [
       "<div>\n",
       "<style scoped>\n",
       "    .dataframe tbody tr th:only-of-type {\n",
       "        vertical-align: middle;\n",
       "    }\n",
       "\n",
       "    .dataframe tbody tr th {\n",
       "        vertical-align: top;\n",
       "    }\n",
       "\n",
       "    .dataframe thead th {\n",
       "        text-align: right;\n",
       "    }\n",
       "</style>\n",
       "<table border=\"1\" class=\"dataframe\">\n",
       "  <thead>\n",
       "    <tr style=\"text-align: right;\">\n",
       "      <th></th>\n",
       "      <th>0</th>\n",
       "      <th>1</th>\n",
       "    </tr>\n",
       "  </thead>\n",
       "  <tbody>\n",
       "    <tr>\n",
       "      <th>0</th>\n",
       "      <td>the</td>\n",
       "      <td>40</td>\n",
       "    </tr>\n",
       "    <tr>\n",
       "      <th>1</th>\n",
       "      <td>in</td>\n",
       "      <td>30</td>\n",
       "    </tr>\n",
       "    <tr>\n",
       "      <th>2</th>\n",
       "      <td>and</td>\n",
       "      <td>21</td>\n",
       "    </tr>\n",
       "    <tr>\n",
       "      <th>3</th>\n",
       "      <td>of</td>\n",
       "      <td>18</td>\n",
       "    </tr>\n",
       "    <tr>\n",
       "      <th>4</th>\n",
       "      <td>to</td>\n",
       "      <td>14</td>\n",
       "    </tr>\n",
       "  </tbody>\n",
       "</table>\n",
       "</div>"
      ],
      "text/plain": [
       "     0   1\n",
       "0  the  40\n",
       "1   in  30\n",
       "2  and  21\n",
       "3   of  18\n",
       "4   to  14"
      ]
     },
     "execution_count": 13,
     "metadata": {},
     "output_type": "execute_result"
    }
   ],
   "source": [
    "obama_word_count_table.head()"
   ]
  },
  {
   "cell_type": "markdown",
   "metadata": {},
   "source": [
    "Most common words include uninformative words like \"the\", \"in\", \"and\",... Doesn't have much meaning!!"
   ]
  },
  {
   "cell_type": "markdown",
   "metadata": {},
   "source": [
    "#Compute TF-IDF for the corpus \n",
    "\n",
    "To give more weight to informative words, we weigh them by their TF-IDF scores."
   ]
  },
  {
   "cell_type": "code",
   "execution_count": 14,
   "metadata": {},
   "outputs": [
    {
     "data": {
      "text/html": [
       "<div>\n",
       "<style scoped>\n",
       "    .dataframe tbody tr th:only-of-type {\n",
       "        vertical-align: middle;\n",
       "    }\n",
       "\n",
       "    .dataframe tbody tr th {\n",
       "        vertical-align: top;\n",
       "    }\n",
       "\n",
       "    .dataframe thead th {\n",
       "        text-align: right;\n",
       "    }\n",
       "</style>\n",
       "<table border=\"1\" class=\"dataframe\">\n",
       "  <thead>\n",
       "    <tr style=\"text-align: right;\">\n",
       "      <th></th>\n",
       "      <th>URI</th>\n",
       "      <th>name</th>\n",
       "      <th>text</th>\n",
       "      <th>word_count</th>\n",
       "    </tr>\n",
       "  </thead>\n",
       "  <tbody>\n",
       "    <tr>\n",
       "      <th>0</th>\n",
       "      <td>&lt;http://dbpedia.org/resource/Digby_Morrell&gt;</td>\n",
       "      <td>Digby Morrell</td>\n",
       "      <td>digby morrell born 10 october 1979 is a former...</td>\n",
       "      <td>{'digby': 1, 'morrell': 5, 'born': 1, '10': 1,...</td>\n",
       "    </tr>\n",
       "    <tr>\n",
       "      <th>1</th>\n",
       "      <td>&lt;http://dbpedia.org/resource/Alfred_J._Lewy&gt;</td>\n",
       "      <td>Alfred J. Lewy</td>\n",
       "      <td>alfred j lewy aka sandy lewy graduated from un...</td>\n",
       "      <td>{'alfred': 1, 'j': 1, 'lewy': 3, 'aka': 1, 'sa...</td>\n",
       "    </tr>\n",
       "    <tr>\n",
       "      <th>2</th>\n",
       "      <td>&lt;http://dbpedia.org/resource/Harpdog_Brown&gt;</td>\n",
       "      <td>Harpdog Brown</td>\n",
       "      <td>harpdog brown is a singer and harmonica player...</td>\n",
       "      <td>{'harpdog': 2, 'brown': 2, 'is': 7, 'a': 7, 's...</td>\n",
       "    </tr>\n",
       "    <tr>\n",
       "      <th>3</th>\n",
       "      <td>&lt;http://dbpedia.org/resource/Franz_Rottensteiner&gt;</td>\n",
       "      <td>Franz Rottensteiner</td>\n",
       "      <td>franz rottensteiner born in waidmannsfeld lowe...</td>\n",
       "      <td>{'franz': 1, 'rottensteiner': 3, 'born': 1, 'i...</td>\n",
       "    </tr>\n",
       "    <tr>\n",
       "      <th>4</th>\n",
       "      <td>&lt;http://dbpedia.org/resource/G-Enka&gt;</td>\n",
       "      <td>G-Enka</td>\n",
       "      <td>henry krvits born 30 december 1974 in tallinn ...</td>\n",
       "      <td>{'henry': 1, 'krvits': 1, 'born': 1, '30': 1, ...</td>\n",
       "    </tr>\n",
       "  </tbody>\n",
       "</table>\n",
       "</div>"
      ],
      "text/plain": [
       "                                                 URI                 name  \\\n",
       "0        <http://dbpedia.org/resource/Digby_Morrell>        Digby Morrell   \n",
       "1       <http://dbpedia.org/resource/Alfred_J._Lewy>       Alfred J. Lewy   \n",
       "2        <http://dbpedia.org/resource/Harpdog_Brown>        Harpdog Brown   \n",
       "3  <http://dbpedia.org/resource/Franz_Rottensteiner>  Franz Rottensteiner   \n",
       "4               <http://dbpedia.org/resource/G-Enka>               G-Enka   \n",
       "\n",
       "                                                text  \\\n",
       "0  digby morrell born 10 october 1979 is a former...   \n",
       "1  alfred j lewy aka sandy lewy graduated from un...   \n",
       "2  harpdog brown is a singer and harmonica player...   \n",
       "3  franz rottensteiner born in waidmannsfeld lowe...   \n",
       "4  henry krvits born 30 december 1974 in tallinn ...   \n",
       "\n",
       "                                          word_count  \n",
       "0  {'digby': 1, 'morrell': 5, 'born': 1, '10': 1,...  \n",
       "1  {'alfred': 1, 'j': 1, 'lewy': 3, 'aka': 1, 'sa...  \n",
       "2  {'harpdog': 2, 'brown': 2, 'is': 7, 'a': 7, 's...  \n",
       "3  {'franz': 1, 'rottensteiner': 3, 'born': 1, 'i...  \n",
       "4  {'henry': 1, 'krvits': 1, 'born': 1, '30': 1, ...  "
      ]
     },
     "execution_count": 14,
     "metadata": {},
     "output_type": "execute_result"
    }
   ],
   "source": [
    "freq_count = []\n",
    "for item in people['text']:\n",
    "    count = Counter(str(item).split())\n",
    "    freq_count.append(count)\n",
    "people['word_count'] = freq_count\n",
    "people.head()"
   ]
  },
  {
   "cell_type": "code",
   "execution_count": 15,
   "metadata": {},
   "outputs": [],
   "source": [
    "from sklearn.feature_extraction.text import TfidfVectorizer"
   ]
  },
  {
   "cell_type": "code",
   "execution_count": 56,
   "metadata": {},
   "outputs": [
    {
     "data": {
      "text/plain": [
       "<59071x548429 sparse matrix of type '<class 'numpy.float64'>'\n",
       "\twith 10244028 stored elements in Compressed Sparse Row format>"
      ]
     },
     "execution_count": 56,
     "metadata": {},
     "output_type": "execute_result"
    }
   ],
   "source": [
    "tfidfVect = TfidfVectorizer()\n",
    "tfidf = tfidfVect.fit_transform(people['text'])\n",
    "tfidf"
   ]
  },
  {
   "cell_type": "code",
   "execution_count": 57,
   "metadata": {},
   "outputs": [
    {
     "name": "stdout",
     "output_type": "stream",
     "text": [
      "  (0, 160652)\t0.09377484096114971\n",
      "  (0, 336162)\t0.5151776851532417\n",
      "  (0, 96612)\t0.012817255065954401\n",
      "  (0, 704)\t0.03350953071413243\n",
      "  (0, 359577)\t0.029493401402676842\n",
      "  (0, 11143)\t0.036415320435667135\n",
      "  (0, 259893)\t0.010385827391862295\n",
      "  (0, 203171)\t0.023824215532529995\n",
      "  (0, 72887)\t0.11754176903095465\n",
      "  (0, 427313)\t0.048779520719894734\n",
      "  (0, 202230)\t0.04283717911908677\n",
      "  (0, 530685)\t0.019302526893852503\n",
      "  (0, 386988)\t0.07717627857142736\n",
      "  (0, 533439)\t0.06076489187161468\n",
      "  (0, 488148)\t0.2729092231853667\n",
      "  (0, 272528)\t0.2392918460443005\n",
      "  (0, 58906)\t0.04045701296072861\n",
      "  (0, 111950)\t0.12817477591058646\n",
      "  (0, 251905)\t0.13151423134101511\n",
      "  (0, 202189)\t0.3596344712497114\n",
      "  (0, 293515)\t0.12473936897966988\n",
      "  (0, 48415)\t0.11413890646314521\n",
      "  (0, 529346)\t0.04131355198210769\n",
      "  (0, 72734)\t0.039095887526818605\n",
      "  (0, 239271)\t0.03828243630336539\n",
      "  :\t:\n",
      "  (59070, 104416)\t0.058420868157660545\n",
      "  (59070, 475409)\t0.06540595261294063\n",
      "  (59070, 138876)\t0.05818940237670459\n",
      "  (59070, 180421)\t0.06839657537189579\n",
      "  (59070, 374462)\t0.08662174700721018\n",
      "  (59070, 152807)\t0.07570103860367257\n",
      "  (59070, 138613)\t0.07301953777926398\n",
      "  (59070, 386315)\t0.0776446867655055\n",
      "  (59070, 371801)\t0.07550480580971032\n",
      "  (59070, 307219)\t0.08168880361445048\n",
      "  (59070, 257176)\t0.08301538601344288\n",
      "  (59070, 156887)\t0.0813530989585179\n",
      "  (59070, 266516)\t0.1725436605831432\n",
      "  (59070, 336572)\t0.08467171391668184\n",
      "  (59070, 22951)\t0.08899258648876075\n",
      "  (59070, 250918)\t0.08856031732938875\n",
      "  (59070, 126942)\t0.11236096668262405\n",
      "  (59070, 419125)\t0.08576694274518559\n",
      "  (59070, 414198)\t0.09578385169254329\n",
      "  (59070, 193268)\t0.11682978041254301\n",
      "  (59070, 135471)\t0.1047214791523812\n",
      "  (59070, 149816)\t0.4978770717711434\n",
      "  (59070, 193286)\t0.12446926794278584\n",
      "  (59070, 149815)\t0.12446926794278584\n",
      "  (59070, 502351)\t0.12446926794278584\n"
     ]
    }
   ],
   "source": [
    "print(tfidf)"
   ]
  },
  {
   "cell_type": "markdown",
   "metadata": {},
   "source": [
    "Count of occcurence of 'the' in the entire corpus"
   ]
  },
  {
   "cell_type": "code",
   "execution_count": 58,
   "metadata": {},
   "outputs": [
    {
     "name": "stdout",
     "output_type": "stream",
     "text": [
      "488148\n"
     ]
    }
   ],
   "source": [
    "print(tfidfVect.vocabulary_.get('the'))"
   ]
  },
  {
   "cell_type": "markdown",
   "metadata": {},
   "source": [
    "##Examine the TF-IDF for the Obama article"
   ]
  },
  {
   "cell_type": "code",
   "execution_count": 16,
   "metadata": {},
   "outputs": [],
   "source": [
    "obama = people[people['name'] == 'Barack Obama']"
   ]
  },
  {
   "cell_type": "markdown",
   "metadata": {},
   "source": [
    "Find list of words in obama"
   ]
  },
  {
   "cell_type": "code",
   "execution_count": 17,
   "metadata": {},
   "outputs": [
    {
     "name": "stdout",
     "output_type": "stream",
     "text": [
      "{'briefs', 'august', 'with', '2009', 'bin', 'us', 'illinois', 'marriage', '1997', 'into', 'laureateduring', 'recovery', 'second', 'current', 'policy', 'often', 'debate', 'promoted', 'represent', 'earning', '2008', 'stimulus', 'down', 'sought', 'constitutional', 'served', 'attorney', 'levels', 'californias', 'barack', 'nobel', 'operation', 'by', 'began', 'arms', 'january', 'included', 'tax', 'as', 'won', 'consumer', 'obama', 'protection', 'republican', 'first', 'creation', 'american', 'signed', 'tell', '2012obama', 'sworn', 'elementary', 'called', 'relations', 'act', 'after', 'job', 'foreign', 'ended', 'term', 'organizer', 'street', 'republicans', 'legislation', 'prize', 'insurance', '1996', 'taxpayer', 'withdrawal', 'sufficient', 'peace', 'sandy', 'march', 'equality', 'continued', 'office', 'unemployment', '2010', 'court', 'libya', 'delegates', 'attention', 'start', '2004', 'unsuccessfully', 'islamic', '44th', 'representing', 'degree', 'nations', 'two', 'university', 'total', 'victory', 'to', 'from', 'convention', 'defeated', 'hillary', 'reinvestment', 'initiatives', 'in', 'dont', 'hook', '1992', 'lengthy', 'community', 'honolulu', 'is', 'spending', 'chicago', 'senate', 'iraq', 'involvement', '2011', 'administration', 'nominee', 'which', 'close', 'husen', 'a', 'clinton', 'keynote', 'domestic', 'russia', 'care', 'defeating', 'wall', 'seats', 'reelected', 'referred', '2012', 'at', 'full', 'proposition', 'related', 'reform', 'supreme', 'rodham', 'shooting', 'law', 'november', 'gun', 'doddfrank', 'relief', 'received', 'where', 'and', 'representatives', 'before', 'district', 'months', 'while', 'patient', 'americans', 'inaugurated', 'ask', 'taught', 'address', 'war', 'process', 'was', 'other', 'columbia', 'primary', 'new', 'urged', 'or', 'raise', 'hussein', 'gains', '2013', 'death', 'federal', 'his', 'whether', 'romney', 'form', 'limit', '20', 'hawaii', 'harvard', 'party', 'filed', 'presidential', 'national', 'the', 'for', 'military', 'osama', 'house', 'defense', 'state', 'nine', 'campaign', 'treaty', 'during', '13th', 'civil', 'bm', 'major', 'states', 'that', 'combat', 'primaries', 'strike', '8', '1961', 'great', 'named', 'recession', 'not', 'brk', 'unconstitutional', 'election', 'three', 'terms', 'democratic', 'hold', '4', 'then', 'troop', 'debt', '2000in', 'laden', 'has', 'running', 'repeal', 'regained', 'john', 'school', '2007', 'operations', 'on', 'increased', 'against', 'reauthorization', 'normalize', 'united', 'years', 'general', 'cuba', 'mccain', 'nomination', 'over', 'response', '63', 'lost', 'resulted', 'african', 'born', 'he', 'rights', 'president', 'economic', 'ordered', 'budget', 'ii', 'lgbt', 'graduate', 'control', 'policies', 'review', 'mitt', 'receive', 'affordable', 'july', 'obamacare', 'worked', 'ending', 'of', 'made', 'afghanistan'}\n"
     ]
    }
   ],
   "source": [
    "for words in obama.word_count.items():\n",
    "    print(set(words[1].elements()))\n",
    "    obama_words = set(words[1].elements())"
   ]
  },
  {
   "cell_type": "code",
   "execution_count": 18,
   "metadata": {},
   "outputs": [
    {
     "data": {
      "text/html": [
       "<div>\n",
       "<style scoped>\n",
       "    .dataframe tbody tr th:only-of-type {\n",
       "        vertical-align: middle;\n",
       "    }\n",
       "\n",
       "    .dataframe tbody tr th {\n",
       "        vertical-align: top;\n",
       "    }\n",
       "\n",
       "    .dataframe thead th {\n",
       "        text-align: right;\n",
       "    }\n",
       "</style>\n",
       "<table border=\"1\" class=\"dataframe\">\n",
       "  <thead>\n",
       "    <tr style=\"text-align: right;\">\n",
       "      <th></th>\n",
       "      <th>URI</th>\n",
       "      <th>name</th>\n",
       "      <th>text</th>\n",
       "      <th>word_count</th>\n",
       "    </tr>\n",
       "  </thead>\n",
       "  <tbody>\n",
       "    <tr>\n",
       "      <th>35817</th>\n",
       "      <td>&lt;http://dbpedia.org/resource/Barack_Obama&gt;</td>\n",
       "      <td>Barack Obama</td>\n",
       "      <td>barack hussein obama ii brk husen bm born augu...</td>\n",
       "      <td>{'barack': 1, 'hussein': 1, 'obama': 9, 'ii': ...</td>\n",
       "    </tr>\n",
       "  </tbody>\n",
       "</table>\n",
       "</div>"
      ],
      "text/plain": [
       "                                              URI          name  \\\n",
       "35817  <http://dbpedia.org/resource/Barack_Obama>  Barack Obama   \n",
       "\n",
       "                                                    text  \\\n",
       "35817  barack hussein obama ii brk husen bm born augu...   \n",
       "\n",
       "                                              word_count  \n",
       "35817  {'barack': 1, 'hussein': 1, 'obama': 9, 'ii': ...  "
      ]
     },
     "execution_count": 18,
     "metadata": {},
     "output_type": "execute_result"
    }
   ],
   "source": [
    "obama"
   ]
  },
  {
   "cell_type": "markdown",
   "metadata": {},
   "source": [
    "Get Tfidf for Obama's text..\n",
    "fit with corpus and trasnform with obama's text"
   ]
  },
  {
   "cell_type": "code",
   "execution_count": 19,
   "metadata": {},
   "outputs": [],
   "source": [
    "obama_tfidfVect = TfidfVectorizer()\n",
    "obama_tfidfVect = obama_tfidfVect.fit(people['text'])\n",
    "obama_tfidf = obama_tfidfVect.transform(obama['text'])"
   ]
  },
  {
   "cell_type": "code",
   "execution_count": 20,
   "metadata": {},
   "outputs": [
    {
     "data": {
      "text/plain": [
       "0.3650175898187781"
      ]
     },
     "execution_count": 20,
     "metadata": {},
     "output_type": "execute_result"
    }
   ],
   "source": [
    "obama_tfidf.max()"
   ]
  },
  {
   "cell_type": "markdown",
   "metadata": {},
   "source": [
    "Vocabulary of the corpus with frequencies"
   ]
  },
  {
   "cell_type": "code",
   "execution_count": null,
   "metadata": {},
   "outputs": [],
   "source": [
    "obama_tfidfVect.vocabulary_\n",
    "obama_tfidf_table = pd.DataFrame(sorted(obama_tfidfVect.vocabulary_.items(),key=lambda pair: pair[1],reverse=True))\n",
    "obama_tfidf_table"
   ]
  },
  {
   "cell_type": "code",
   "execution_count": null,
   "metadata": {},
   "outputs": [],
   "source": [
    "print(obama_tfidf)"
   ]
  },
  {
   "cell_type": "code",
   "execution_count": 21,
   "metadata": {},
   "outputs": [
    {
     "name": "stdout",
     "output_type": "stream",
     "text": [
      "13th  -  0.04155223560328909\n",
      "1961  -  0.03016581962187603\n",
      "1992  -  0.02289189867875382\n",
      "1996  -  0.021894640640149326\n",
      "1997  -  0.021852752342990073\n",
      "20  -  0.04806514415164882\n",
      "2000in  -  0.05056331448649607\n",
      "2004  -  0.056353284811914046\n",
      "2007  -  0.017372040001768754\n",
      "2008  -  0.01752122556256475\n",
      "2009  -  0.053716110129215185\n",
      "2010  -  0.036208432821067116\n",
      "2011  -  0.0566046837038299\n",
      "2012  -  0.0195067923551467\n",
      "2012obama  -  0.07885433263257774\n",
      "2013  -  0.020629112598581526\n",
      "44th  -  0.05624071615493585\n",
      "63  -  0.04341764575235663\n",
      "act  -  0.2490890416206761\n",
      "address  -  0.040499804202992096\n",
      "administration  -  0.029988224032272276\n",
      "affordable  -  0.04976117912769321\n",
      "afghanistan  -  0.07971048613465608\n",
      "african  -  0.03199054994063867\n",
      "after  -  0.05430461125327095\n",
      "against  -  0.021001902062722264\n",
      "american  -  0.04456160767469354\n",
      "americans  -  0.04021821930188391\n",
      "and  -  0.14673880270062417\n",
      "arms  -  0.04209027344177608\n",
      "as  -  0.047221719116605276\n",
      "ask  -  0.04542634533461067\n",
      "at  -  0.016971534950574383\n",
      "attention  -  0.030906937432353912\n",
      "attorney  -  0.03252893897573361\n",
      "august  -  0.020947537066985555\n",
      "barack  -  0.04234754735991505\n",
      "before  -  0.017433021692964398\n",
      "began  -  0.019043559436607946\n",
      "bin  -  0.046162010306655184\n",
      "bm  -  0.0571146501850359\n",
      "born  -  0.017709931271046624\n",
      "briefs  -  0.05886941781028262\n",
      "brk  -  0.0760232295807462\n",
      "budget  -  0.03855605726827532\n",
      "by  -  0.009597572040438845\n",
      "californias  -  0.04830122507691852\n",
      "called  -  0.021494206403410984\n",
      "campaign  -  0.08432957751302084\n",
      "care  -  0.03432379932795829\n",
      "chicago  -  0.0548648391973696\n",
      "civil  -  0.03019203216982337\n",
      "clinton  -  0.03868780380436277\n",
      "close  -  0.0317075550519357\n",
      "columbia  -  0.029552554027124527\n",
      "combat  -  0.041403493331669206\n",
      "community  -  0.025785593019571333\n",
      "constitutional  -  0.03859969715570185\n",
      "consumer  -  0.040163239811057086\n",
      "continued  -  0.02597680547563224\n",
      "control  -  0.1318571790693225\n",
      "convention  -  0.037813869774262744\n",
      "court  -  0.027204039881390224\n",
      "creation  -  0.03515436452758149\n",
      "cuba  -  0.04191214237148263\n",
      "current  -  0.026746457660782343\n",
      "death  -  0.02902206618575324\n",
      "debate  -  0.040371683924716135\n",
      "debt  -  0.046162010306655184\n",
      "defeated  -  0.030766529498723667\n",
      "defeating  -  0.03689864025114098\n",
      "defense  -  0.033470484407228135\n",
      "degree  -  0.02109048938725955\n",
      "delegates  -  0.04981551682806423\n",
      "democratic  -  0.11457527543739672\n",
      "district  -  0.026352926305256295\n",
      "doddfrank  -  0.07401452999849217\n",
      "domestic  -  0.07655771702893438\n",
      "dont  -  0.07177263687921645\n",
      "down  -  0.0275618502261183\n",
      "during  -  0.032362102172086446\n",
      "earning  -  0.0339092259163596\n",
      "economic  -  0.0298150337512502\n",
      "election  -  0.07479547131181367\n",
      "elementary  -  0.041602528924637824\n",
      "ended  -  0.030321246776016168\n",
      "ending  -  0.038721132551457545\n",
      "equality  -  0.04425096769055315\n",
      "federal  -  0.028547184703298367\n",
      "filed  -  0.03984215522983335\n",
      "first  -  0.035517610776050694\n",
      "for  -  0.029964410726194306\n",
      "foreign  -  0.058518515370798094\n",
      "form  -  0.029558547468916622\n",
      "from  -  0.02710027260881693\n",
      "full  -  0.02794850759724801\n",
      "gains  -  0.05383291599257232\n",
      "general  -  0.02248728710913933\n",
      "graduate  -  0.025659251184685417\n",
      "great  -  0.02630949296359495\n",
      "gun  -  0.043752863368463554\n",
      "harvard  -  0.060279410221605254\n",
      "has  -  0.03989687916800934\n",
      "hawaii  -  0.040528597477852646\n",
      "he  -  0.05930502949224121\n",
      "hillary  -  0.04884914208757114\n",
      "his  -  0.09697568415459205\n",
      "hold  -  0.0359160622939971\n",
      "honolulu  -  0.04800040000034542\n",
      "hook  -  0.05087369266246481\n",
      "house  -  0.04643816265096817\n",
      "husen  -  0.07885433263257774\n",
      "hussein  -  0.049707261027650385\n",
      "ii  -  0.030074842969882668\n",
      "illinois  -  0.06618483009121316\n",
      "in  -  0.20967299876631698\n",
      "inaugurated  -  0.05074788098373346\n",
      "included  -  0.02405025755442083\n",
      "increased  -  0.04013591155989306\n",
      "initiatives  -  0.0411466419619593\n",
      "insurance  -  0.03905178766706948\n",
      "into  -  0.018189015148892065\n",
      "involvement  -  0.11018747157297994\n",
      "iraq  -  0.15180855532927304\n",
      "is  -  0.014350365063062639\n",
      "islamic  -  0.04038580396847466\n",
      "january  -  0.06043896784624722\n",
      "job  -  0.03104651580552264\n",
      "john  -  0.020885795895361572\n",
      "july  -  0.020546980888617943\n",
      "keynote  -  0.04489436539895879\n",
      "laden  -  0.053736606062068176\n",
      "laureateduring  -  0.07885433263257774\n",
      "law  -  0.14468744228550123\n",
      "legislation  -  0.039699785233838006\n",
      "lengthy  -  0.04787533947639497\n",
      "levels  -  0.03942346877640728\n",
      "lgbt  -  0.0459707008255436\n",
      "libya  -  0.05113232812875007\n",
      "limit  -  0.04435000990802586\n",
      "lost  -  0.02605441812640057\n",
      "made  -  0.017594328682917024\n",
      "major  -  0.021352085989831376\n",
      "march  -  0.020649169658718807\n",
      "marriage  -  0.03571046798871844\n",
      "mccain  -  0.05413008251037212\n",
      "military  -  0.11949751478498162\n",
      "mitt  -  0.05444046068634086\n",
      "months  -  0.02822531330020501\n",
      "named  -  0.021155875308720613\n",
      "national  -  0.030528412104160435\n",
      "nations  -  0.030452897768706143\n",
      "new  -  0.01317718730614831\n",
      "nine  -  0.02975927370928068\n",
      "nobel  -  0.04240393280166755\n",
      "nomination  -  0.03329935229449533\n",
      "nominee  -  0.07978930883791377\n",
      "normalize  -  0.0760232295807462\n",
      "not  -  0.018070004724243933\n",
      "november  -  0.04151085000455398\n",
      "obama  -  0.3650175898187781\n",
      "obamacare  -  0.06917472736440658\n",
      "of  -  0.1262048162788276\n",
      "office  -  0.05060632290852004\n",
      "often  -  0.02696839707953239\n",
      "on  -  0.0165399428357477\n",
      "operation  -  0.037405539372242065\n",
      "operations  -  0.03359228822633021\n",
      "or  -  0.020338172922802798\n",
      "ordered  -  0.12237967144422175\n",
      "organizer  -  0.04536840011193823\n",
      "osama  -  0.05301051252299481\n",
      "other  -  0.017053337660265806\n",
      "over  -  0.017370469932596208\n",
      "party  -  0.07025335421913445\n",
      "patient  -  0.04632553907512221\n",
      "peace  -  0.03345999250554088\n",
      "policies  -  0.03951020727394028\n",
      "policy  -  0.05652015236964582\n",
      "president  -  0.07838762808221296\n",
      "presidential  -  0.06553383490863172\n",
      "primaries  -  0.05345539922952326\n",
      "primary  -  0.060817475446988574\n",
      "prize  -  0.026149442540259183\n",
      "process  -  0.033127314450510044\n",
      "promoted  -  0.03155027897657698\n",
      "proposition  -  0.055223303940976624\n",
      "protection  -  0.07468253999393737\n",
      "raise  -  0.03961067460811536\n",
      "reauthorization  -  0.06835232389482908\n",
      "receive  -  0.038032396718928885\n",
      "received  -  0.017732392412269083\n",
      "recession  -  0.053274029051526436\n",
      "recovery  -  0.04259524228277913\n",
      "reelected  -  0.032691380714824456\n",
      "referred  -  0.03668742150630729\n",
      "reform  -  0.03555307207854681\n",
      "regained  -  0.045939319382791055\n",
      "reinvestment  -  0.06526728888599023\n",
      "related  -  0.03297895846034851\n",
      "relations  -  0.03103909959743396\n",
      "relief  -  0.07568653845020705\n",
      "repeal  -  0.05776464096246222\n",
      "represent  -  0.036189617337025304\n",
      "representatives  -  0.06621470115825652\n",
      "representing  -  0.03166283527644951\n",
      "republican  -  0.06428161264467938\n",
      "republicans  -  0.046002223945718804\n",
      "response  -  0.11018747157297994\n",
      "resulted  -  0.03501544043324245\n",
      "review  -  0.02951670101248744\n",
      "rights  -  0.02839326900909682\n",
      "rodham  -  0.06042748625190464\n",
      "romney  -  0.05465531946214981\n",
      "running  -  0.030381700480576222\n",
      "russia  -  0.035081250149998515\n",
      "sandy  -  0.04531093181008557\n",
      "school  -  0.046560048182063274\n",
      "seats  -  0.041877055065189774\n",
      "second  -  0.03731865208110925\n",
      "senate  -  0.09190764690847711\n",
      "served  -  0.03541746726645982\n",
      "shooting  -  0.0396614556265558\n",
      "signed  -  0.0736804977619208\n",
      "sought  -  0.03718760669840457\n",
      "spending  -  0.036135580013903025\n",
      "start  -  0.029890079982958645\n",
      "state  -  0.018915076447791442\n",
      "states  -  0.05916108985966405\n",
      "stimulus  -  0.060182466050107186\n",
      "street  -  0.029673411380381636\n",
      "strike  -  0.042054281819511014\n",
      "sufficient  -  0.05182421641031827\n",
      "supreme  -  0.03430602496301227\n",
      "sworn  -  0.041602528924637824\n",
      "taught  -  0.026869791956132195\n",
      "tax  -  0.03871000528335109\n",
      "taxpayer  -  0.058672718626657905\n",
      "tell  -  0.040514185998517596\n",
      "term  -  0.08601050224836597\n",
      "terms  -  0.033678292199073284\n",
      "that  -  0.011600429362851402\n",
      "the  -  0.2793227400023615\n",
      "then  -  0.01697328837386998\n",
      "three  -  0.017396683956700423\n",
      "to  -  0.10234195997379708\n",
      "total  -  0.029858712637936703\n",
      "treaty  -  0.048127741388636854\n",
      "troop  -  0.05743208481361034\n",
      "two  -  0.014655274648249124\n",
      "unconstitutional  -  0.054547063661735964\n",
      "unemployment  -  0.053274029051526436\n",
      "united  -  0.05378911724218047\n",
      "university  -  0.025797309845256983\n",
      "unsuccessfully  -  0.040703896038719864\n",
      "urged  -  0.05020820274602382\n",
      "us  -  0.12283397315748205\n",
      "victory  -  0.030611437909360658\n",
      "wall  -  0.0350548517848713\n",
      "war  -  0.026599705713814686\n",
      "was  -  0.03768254961844391\n",
      "where  -  0.014586447600086849\n",
      "whether  -  0.04009511869259415\n",
      "which  -  0.012340701548516048\n",
      "while  -  0.019805133007058398\n",
      "with  -  0.02518812459925273\n",
      "withdrawal  -  0.05074788098373346\n",
      "won  -  0.016643077961069105\n",
      "worked  -  0.017832308630830872\n",
      "years  -  0.014490176160134262\n"
     ]
    }
   ],
   "source": [
    "feature_names = obama_tfidfVect.get_feature_names()\n",
    "for col in obama_tfidf.nonzero()[1]:\n",
    "    print(feature_names[col], ' - ', obama_tfidf[0, col])"
   ]
  },
  {
   "cell_type": "markdown",
   "metadata": {},
   "source": [
    "Get highest ranking words in obama text using TF IDF"
   ]
  },
  {
   "cell_type": "code",
   "execution_count": 23,
   "metadata": {},
   "outputs": [],
   "source": [
    "import numpy as np"
   ]
  },
  {
   "cell_type": "code",
   "execution_count": 24,
   "metadata": {},
   "outputs": [
    {
     "data": {
      "text/plain": [
       "array(['obama', 'the', 'act', 'in', 'iraq', 'and', 'law', 'control', 'of',\n",
       "       'us'], dtype='<U2140')"
      ]
     },
     "execution_count": 24,
     "metadata": {},
     "output_type": "execute_result"
    }
   ],
   "source": [
    "feature_array = np.array(feature_names)\n",
    "tfidf_sorting = np.argsort(obama_tfidf.toarray()).flatten()[::-1]\n",
    "top_n = feature_array[tfidf_sorting][:10]\n",
    "top_n"
   ]
  },
  {
   "cell_type": "markdown",
   "metadata": {},
   "source": [
    "Words with highest TF-IDF are much more informative."
   ]
  },
  {
   "cell_type": "markdown",
   "metadata": {},
   "source": [
    "# #Build a nearest neighbor model for document retrieval\n",
    "\n",
    "We now create a nearest-neighbors model and apply it to document retrieval.  "
   ]
  },
  {
   "cell_type": "code",
   "execution_count": 63,
   "metadata": {},
   "outputs": [],
   "source": [
    "#from sklearn.model_selection import train_test_split\n",
    "from sklearn.neighbors import NearestNeighbors"
   ]
  },
  {
   "cell_type": "code",
   "execution_count": 67,
   "metadata": {},
   "outputs": [],
   "source": [
    "nbrs = NearestNeighbors(n_neighbors=10).fit(tfidf)"
   ]
  },
  {
   "cell_type": "markdown",
   "metadata": {},
   "source": [
    "Find 10 nearest neighbours to Obama"
   ]
  },
  {
   "cell_type": "code",
   "execution_count": 69,
   "metadata": {},
   "outputs": [
    {
     "data": {
      "text/plain": [
       "(array([[0.        , 1.06843875, 1.1098956 , 1.11802815, 1.13996938,\n",
       "         1.14776932, 1.1503744 , 1.15493924, 1.15776052, 1.15967833]]),\n",
       " array([[35817, 24478, 57108, 38376, 38714, 28447, 39357, 48693, 18827,\n",
       "         46811]], dtype=int64))"
      ]
     },
     "execution_count": 69,
     "metadata": {},
     "output_type": "execute_result"
    }
   ],
   "source": [
    "distances, indices = nbrs.kneighbors(obama_tfidf)\n",
    "distances,indices"
   ]
  },
  {
   "cell_type": "code",
   "execution_count": 71,
   "metadata": {},
   "outputs": [
    {
     "data": {
      "text/plain": [
       "0               Barack Obama\n",
       "1                  Joe Biden\n",
       "2     Hillary Rodham Clinton\n",
       "3             Samantha Power\n",
       "4    Eric Stern (politician)\n",
       "5             George W. Bush\n",
       "6                John McCain\n",
       "7                Artur Davis\n",
       "8               Henry Waxman\n",
       "9              Jeff Sessions\n",
       "dtype: object"
      ]
     },
     "execution_count": 71,
     "metadata": {},
     "output_type": "execute_result"
    }
   ],
   "source": [
    "names_similar = pd.Series(indices.flatten()).map(people.reset_index()['name'])\n",
    "names_similar"
   ]
  },
  {
   "cell_type": "code",
   "execution_count": 76,
   "metadata": {},
   "outputs": [
    {
     "data": {
      "text/html": [
       "<div>\n",
       "<style scoped>\n",
       "    .dataframe tbody tr th:only-of-type {\n",
       "        vertical-align: middle;\n",
       "    }\n",
       "\n",
       "    .dataframe tbody tr th {\n",
       "        vertical-align: top;\n",
       "    }\n",
       "\n",
       "    .dataframe thead th {\n",
       "        text-align: right;\n",
       "    }\n",
       "</style>\n",
       "<table border=\"1\" class=\"dataframe\">\n",
       "  <thead>\n",
       "    <tr style=\"text-align: right;\">\n",
       "      <th></th>\n",
       "      <th>distance</th>\n",
       "      <th>name</th>\n",
       "    </tr>\n",
       "  </thead>\n",
       "  <tbody>\n",
       "    <tr>\n",
       "      <th>1</th>\n",
       "      <td>1.068439</td>\n",
       "      <td>Joe Biden</td>\n",
       "    </tr>\n",
       "    <tr>\n",
       "      <th>2</th>\n",
       "      <td>1.109896</td>\n",
       "      <td>Hillary Rodham Clinton</td>\n",
       "    </tr>\n",
       "    <tr>\n",
       "      <th>3</th>\n",
       "      <td>1.118028</td>\n",
       "      <td>Samantha Power</td>\n",
       "    </tr>\n",
       "    <tr>\n",
       "      <th>4</th>\n",
       "      <td>1.139969</td>\n",
       "      <td>Eric Stern (politician)</td>\n",
       "    </tr>\n",
       "    <tr>\n",
       "      <th>5</th>\n",
       "      <td>1.147769</td>\n",
       "      <td>George W. Bush</td>\n",
       "    </tr>\n",
       "    <tr>\n",
       "      <th>6</th>\n",
       "      <td>1.150374</td>\n",
       "      <td>John McCain</td>\n",
       "    </tr>\n",
       "    <tr>\n",
       "      <th>7</th>\n",
       "      <td>1.154939</td>\n",
       "      <td>Artur Davis</td>\n",
       "    </tr>\n",
       "    <tr>\n",
       "      <th>8</th>\n",
       "      <td>1.157761</td>\n",
       "      <td>Henry Waxman</td>\n",
       "    </tr>\n",
       "    <tr>\n",
       "      <th>9</th>\n",
       "      <td>1.159678</td>\n",
       "      <td>Jeff Sessions</td>\n",
       "    </tr>\n",
       "  </tbody>\n",
       "</table>\n",
       "</div>"
      ],
      "text/plain": [
       "   distance                     name\n",
       "1  1.068439                Joe Biden\n",
       "2  1.109896   Hillary Rodham Clinton\n",
       "3  1.118028           Samantha Power\n",
       "4  1.139969  Eric Stern (politician)\n",
       "5  1.147769           George W. Bush\n",
       "6  1.150374              John McCain\n",
       "7  1.154939              Artur Davis\n",
       "8  1.157761             Henry Waxman\n",
       "9  1.159678            Jeff Sessions"
      ]
     },
     "execution_count": 76,
     "metadata": {},
     "output_type": "execute_result"
    }
   ],
   "source": [
    "result = pd.DataFrame({'distance':distances.flatten(), 'name':names_similar})\n",
    "result[1:]"
   ]
  },
  {
   "cell_type": "markdown",
   "metadata": {},
   "source": [
    "#Applying the nearest-neighbors model for retrieval"
   ]
  },
  {
   "cell_type": "markdown",
   "metadata": {},
   "source": [
    "##Who is closest to Obama?"
   ]
  },
  {
   "cell_type": "markdown",
   "metadata": {},
   "source": [
    "As we can see, president Obama's article is closest to the one about his vice-president Biden, and those of other politicians.  "
   ]
  }
 ],
 "metadata": {
  "kernelspec": {
   "display_name": "Python 3",
   "language": "python",
   "name": "python3"
  },
  "language_info": {
   "codemirror_mode": {
    "name": "ipython",
    "version": 3
   },
   "file_extension": ".py",
   "mimetype": "text/x-python",
   "name": "python",
   "nbconvert_exporter": "python",
   "pygments_lexer": "ipython3",
   "version": "3.7.1"
  }
 },
 "nbformat": 4,
 "nbformat_minor": 1
}
